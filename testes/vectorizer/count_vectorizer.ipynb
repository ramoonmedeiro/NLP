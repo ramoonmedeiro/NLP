{
 "cells": [
  {
   "cell_type": "markdown",
   "id": "0d0f172e",
   "metadata": {},
   "source": [
    "# SPAM DETECTION"
   ]
  },
  {
   "cell_type": "markdown",
   "id": "f09e7b85",
   "metadata": {},
   "source": [
    "### Com CountVectorizer"
   ]
  },
  {
   "cell_type": "code",
   "execution_count": 95,
   "id": "a097129f",
   "metadata": {},
   "outputs": [],
   "source": [
    "import pandas as pd\n",
    "import numpy as np\n",
    "\n",
    "from sklearn.model_selection import train_test_split, StratifiedKFold, cross_val_score\n",
    "from sklearn.metrics import confusion_matrix, classification_report\n",
    "from sklearn.naive_bayes import MultinomialNB\n",
    "from sklearn.feature_extraction.text import CountVectorizer, TfidfVectorizer\n",
    "from sklearn.metrics.pairwise import cosine_similarity, euclidean_distances\n",
    "\n",
    "import matplotlib.pyplot as plt\n",
    "import seaborn as sns"
   ]
  },
  {
   "cell_type": "code",
   "execution_count": 96,
   "id": "c13ddf49",
   "metadata": {},
   "outputs": [],
   "source": [
    "emails_df = pd.read_csv('./../../datasets/spam_or_not_spam.csv')"
   ]
  },
  {
   "cell_type": "code",
   "execution_count": 97,
   "id": "07c6e1e3",
   "metadata": {},
   "outputs": [],
   "source": [
    "emails_df.dropna(inplace=True)"
   ]
  },
  {
   "cell_type": "code",
   "execution_count": 98,
   "id": "fb8a8524",
   "metadata": {},
   "outputs": [
    {
     "data": {
      "text/plain": [
       "0    0.833611\n",
       "1    0.166389\n",
       "Name: label, dtype: float64"
      ]
     },
     "execution_count": 98,
     "metadata": {},
     "output_type": "execute_result"
    }
   ],
   "source": [
    "#emails_df['label'].value_counts()\n",
    "emails_df['label'].value_counts(normalize=True)"
   ]
  },
  {
   "cell_type": "code",
   "execution_count": 99,
   "id": "d6d64186",
   "metadata": {},
   "outputs": [],
   "source": [
    "X = emails_df['email']\n",
    "y = emails_df['label']\n",
    "\n",
    "X_treino, X_teste, y_treino, y_teste = train_test_split(X, y, test_size=0.3, random_state=99)"
   ]
  },
  {
   "cell_type": "code",
   "execution_count": 100,
   "id": "6d1e02e2",
   "metadata": {},
   "outputs": [
    {
     "data": {
      "text/plain": [
       "0    0.829919\n",
       "1    0.170081\n",
       "Name: label, dtype: float64"
      ]
     },
     "execution_count": 100,
     "metadata": {},
     "output_type": "execute_result"
    }
   ],
   "source": [
    "y_treino.value_counts(normalize=True)\n",
    "#y_teste.value_counts(normalize=True)"
   ]
  },
  {
   "cell_type": "code",
   "execution_count": 101,
   "id": "9ff0aac0",
   "metadata": {},
   "outputs": [],
   "source": [
    "# Criando objeto CountVectorizer e transformando as variáveis\n",
    "cvectorizer = CountVectorizer()\n",
    "X_treino_cv = cvectorizer.fit_transform(X_treino)\n",
    "X_teste_cv = cvectorizer.transform(X_teste)"
   ]
  },
  {
   "cell_type": "code",
   "execution_count": 102,
   "id": "d030ee06",
   "metadata": {},
   "outputs": [],
   "source": [
    "# Treinando o modelo fazendo cross validation\n",
    "model = MultinomialNB()\n",
    "model.fit(X_treino_cv, y_treino)\n",
    "skfold = StratifiedKFold(n_splits=5, shuffle=True, random_state=99)\n",
    "results = cross_val_score(model, X_treino_cv, y_treino, cv=skfold, scoring='recall')"
   ]
  },
  {
   "cell_type": "code",
   "execution_count": 103,
   "id": "d731d8c6",
   "metadata": {},
   "outputs": [
    {
     "data": {
      "text/plain": [
       "94.96"
      ]
     },
     "execution_count": 103,
     "metadata": {},
     "output_type": "execute_result"
    }
   ],
   "source": [
    "round(results.mean()*100, 2)"
   ]
  },
  {
   "cell_type": "code",
   "execution_count": 104,
   "id": "6f9eae6d",
   "metadata": {},
   "outputs": [],
   "source": [
    "# Utilizando o conjunto de teste\n",
    "prev_teste1 = model.predict(X_teste_cv)"
   ]
  },
  {
   "cell_type": "code",
   "execution_count": 105,
   "id": "73c325bd",
   "metadata": {},
   "outputs": [
    {
     "data": {
      "text/plain": [
       "<AxesSubplot: >"
      ]
     },
     "execution_count": 105,
     "metadata": {},
     "output_type": "execute_result"
    },
    {
     "data": {
      "image/png": "[encoded data removed]",
      "text/plain": [
       "<Figure size 500x500 with 2 Axes>"
      ]
     },
     "metadata": {},
     "output_type": "display_data"
    }
   ],
   "source": [
    "plt.figure(figsize=(5,5))\n",
    "sns.heatmap(confusion_matrix(y_teste, prev_teste1), vmin=0, vmax=800,square=True,fmt=\".0f\",annot=True)"
   ]
  },
  {
   "cell_type": "code",
   "execution_count": 106,
   "id": "2d6d4d93",
   "metadata": {},
   "outputs": [
    {
     "name": "stdout",
     "output_type": "stream",
     "text": [
      "              precision    recall  f1-score   support\n",
      "\n",
      "           0       0.99      1.00      0.99       758\n",
      "           1       1.00      0.93      0.96       142\n",
      "\n",
      "    accuracy                           0.99       900\n",
      "   macro avg       0.99      0.96      0.98       900\n",
      "weighted avg       0.99      0.99      0.99       900\n",
      "\n"
     ]
    }
   ],
   "source": [
    "print(classification_report(y_teste, prev_teste1))"
   ]
  },
  {
   "cell_type": "markdown",
   "id": "d040bc1e",
   "metadata": {},
   "source": [
    "### Com TFidVectorizer"
   ]
  },
  {
   "cell_type": "code",
   "execution_count": 107,
   "id": "f522334d",
   "metadata": {},
   "outputs": [],
   "source": [
    "vectorizer_tfidf = TfidfVectorizer()\n",
    "X_treino_tf = vectorizer_tfidf.fit_transform(X_treino)\n",
    "X_teste_tf = vectorizer_tfidf.transform(X_teste)"
   ]
  },
  {
   "cell_type": "code",
   "execution_count": 108,
   "id": "5d7eb0ba",
   "metadata": {},
   "outputs": [],
   "source": [
    "# Treinando o modelo fazendo cross validation\n",
    "model2 = MultinomialNB()\n",
    "model2.fit(X_treino_tf, y_treino)\n",
    "skfold = StratifiedKFold(n_splits=5, shuffle=True, random_state=99)\n",
    "results2 = cross_val_score(model2, X_treino_tf, y_treino, cv=skfold, scoring='recall')"
   ]
  },
  {
   "cell_type": "code",
   "execution_count": 109,
   "id": "0a83b65d",
   "metadata": {},
   "outputs": [
    {
     "data": {
      "text/plain": [
       "11.21"
      ]
     },
     "execution_count": 109,
     "metadata": {},
     "output_type": "execute_result"
    }
   ],
   "source": [
    "round(results2.mean()*100, 2)"
   ]
  },
  {
   "cell_type": "code",
   "execution_count": 110,
   "id": "7ca61f4c",
   "metadata": {},
   "outputs": [
    {
     "data": {
      "text/plain": [
       "array([0.94444444, 0.95833333, 0.91549296, 0.97183099, 0.95774648])"
      ]
     },
     "execution_count": 110,
     "metadata": {},
     "output_type": "execute_result"
    }
   ],
   "source": [
    "results"
   ]
  }
 ],
 "metadata": {
  "kernelspec": {
   "display_name": "Python 3 (ipykernel)",
   "language": "python",
   "name": "python3"
  },
  "language_info": {
   "codemirror_mode": {
    "name": "ipython",
    "version": 3
   },
   "file_extension": ".py",
   "mimetype": "text/x-python",
   "name": "python",
   "nbconvert_exporter": "python",
   "pygments_lexer": "ipython3",
   "version": "3.10.8"
  }
 },
 "nbformat": 4,
 "nbformat_minor": 5
}
